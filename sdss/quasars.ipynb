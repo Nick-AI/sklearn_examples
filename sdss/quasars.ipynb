{
  "nbformat": 4,
  "nbformat_minor": 0,
  "metadata": {
    "colab": {
      "name": "Quasars.ipynb",
      "version": "0.3.2",
      "provenance": [],
      "collapsed_sections": [],
      "include_colab_link": true
    },
    "kernelspec": {
      "name": "python3",
      "display_name": "Python 3"
    }
  },
  "cells": [
    {
      "cell_type": "markdown",
      "metadata": {
        "id": "view-in-github",
        "colab_type": "text"
      },
      "source": [
        "<a href=\"https://colab.research.google.com/github/peterjsadowski/sklearn_examples/blob/master/sdss/quasars.ipynb\" target=\"_parent\"><img src=\"https://colab.research.google.com/assets/colab-badge.svg\" alt=\"Open In Colab\"/></a>"
      ]
    },
    {
      "metadata": {
        "id": "5YzYD5jqv79W",
        "colab_type": "code",
        "colab": {
          "base_uri": "https://localhost:8080/",
          "height": 34
        },
        "outputId": "382f1241-76a1-49d5-f948-dc0f980dd376"
      },
      "cell_type": "code",
      "source": [
        "# Build simple model for classifying quasars, galaxies, and stars. \n",
        "# Author Peter Sadowski\n",
        "# Adapted from https://www.kaggle.com/lucidlenn/sloan-digital-sky-survey/home\n",
        "\n",
        "import urllib\n",
        "import numpy as np\n",
        "import pandas as pd\n",
        "import sklearn\n",
        "import sklearn.model_selection\n",
        "import sklearn.metrics\n",
        "import sklearn.ensemble\n",
        "\n",
        "# Download data from Sloan Digital Sky Survey \n",
        "# https://www.sdss.org/dr14/\n",
        "url = 'https://raw.githubusercontent.com/peterjsadowski/sklearn_examples/master/sdss/sdss.csv'\n",
        "filename = 'sdss.csv'\n",
        "urllib.request.urlretrieve(url, filename)"
      ],
      "execution_count": 76,
      "outputs": [
        {
          "output_type": "execute_result",
          "data": {
            "text/plain": [
              "('sdss.csv', <http.client.HTTPMessage at 0x7f3881fff320>)"
            ]
          },
          "metadata": {
            "tags": []
          },
          "execution_count": 76
        }
      ]
    },
    {
      "metadata": {
        "id": "f1CKZNeWyYhA",
        "colab_type": "code",
        "colab": {
          "base_uri": "https://localhost:8080/",
          "height": 544
        },
        "outputId": "babdbfdc-52ef-4d14-dfb9-d3dd84511afe"
      },
      "cell_type": "code",
      "source": [
        "# Features:\n",
        "# ra = J2000 Right Ascension (r-band)\n",
        "# dec = J2000 Declination (r-band)\n",
        "# u = better of DeV/Exp magnitude fit\n",
        "# g = better of DeV/Exp magnitude fit\n",
        "# r = better of DeV/Exp magnitude fit\n",
        "# i = better of DeV/Exp magnitude fit\n",
        "# z = better of DeV/Exp magnitude fit\n",
        "# redshift = Redshift\n",
        "# plate = plate number\n",
        "# mjd = MJD of observation\n",
        "# fiberid = fiber ID\n",
        "\n",
        "# The Thuan-Gunn astronomic magnitude system. u, g, r, i, z represent the response of the 5 bands of the telescope.\n",
        "# Redshift is the change in electromagnetic radiation due to the object moving away from the observer.\n",
        "\n",
        "data = pd.read_csv(filename)\n",
        "data.drop([\"objid\",\"specobjid\",\"run\",\"rerun\",\"camcol\",\"field\"], axis = 1, inplace = True) # Unused columns.\n",
        "\n",
        "print(data.head(n=5))\n",
        "print(data.info())"
      ],
      "execution_count": 77,
      "outputs": [
        {
          "output_type": "stream",
          "text": [
            "           ra       dec         u         g         r         i         z  \\\n",
            "0  183.531326  0.089693  19.47406  17.04240  15.94699  15.50342  15.22531   \n",
            "1  183.598371  0.135285  18.66280  17.21449  16.67637  16.48922  16.39150   \n",
            "2  183.680207  0.126185  19.38298  18.19169  17.47428  17.08732  16.80125   \n",
            "3  183.870529  0.049911  17.76536  16.60272  16.16116  15.98233  15.90438   \n",
            "4  183.883288  0.102557  17.55025  16.26342  16.43869  16.55492  16.61326   \n",
            "\n",
            "    class  redshift  plate    mjd  fiberid  \n",
            "0    STAR -0.000009   3306  54922      491  \n",
            "1    STAR -0.000055    323  51615      541  \n",
            "2  GALAXY  0.123111    287  52023      513  \n",
            "3    STAR -0.000111   3306  54922      510  \n",
            "4    STAR  0.000590   3306  54922      512  \n",
            "<class 'pandas.core.frame.DataFrame'>\n",
            "RangeIndex: 10000 entries, 0 to 9999\n",
            "Data columns (total 12 columns):\n",
            "ra          10000 non-null float64\n",
            "dec         10000 non-null float64\n",
            "u           10000 non-null float64\n",
            "g           10000 non-null float64\n",
            "r           10000 non-null float64\n",
            "i           10000 non-null float64\n",
            "z           10000 non-null float64\n",
            "class       10000 non-null object\n",
            "redshift    10000 non-null float64\n",
            "plate       10000 non-null int64\n",
            "mjd         10000 non-null int64\n",
            "fiberid     10000 non-null int64\n",
            "dtypes: float64(8), int64(3), object(1)\n",
            "memory usage: 937.6+ KB\n",
            "None\n"
          ],
          "name": "stdout"
        }
      ]
    },
    {
      "metadata": {
        "id": "bJEtqYXkzsac",
        "colab_type": "code",
        "colab": {
          "base_uri": "https://localhost:8080/",
          "height": 136
        },
        "outputId": "11ac2a87-11b1-4929-946b-fe118c22a99e"
      },
      "cell_type": "code",
      "source": [
        "# Preprocess data.\n",
        "\n",
        "# Associate each class with a number.\n",
        "print(\"Mapping: \", dict(enumerate([\"GALAXY\",\"QUASAR\",\"STAR\"])))\n",
        "data[\"class\"] = data[\"class\"].astype(\"category\")\n",
        "data[\"class\"] = data[\"class\"].cat.codes\n",
        "print(data[\"class\"].value_counts().sort_index())\n",
        "\n",
        "# Split data set.\n",
        "features = data.drop(\"class\", axis = 1)\n",
        "labels = data[\"class\"].copy()\n",
        "X_train, X_test, y_train, y_test = sklearn.model_selection.train_test_split(features, labels, test_size=0.2, random_state=42, stratify=labels)\n",
        "print('Train data shape:', X_train.shape, y_train.shape)\n",
        "print('Test data shape:' , X_test.shape, y_test.shape)\n"
      ],
      "execution_count": 78,
      "outputs": [
        {
          "output_type": "stream",
          "text": [
            "Mapping:  {0: 'GALAXY', 1: 'QUASAR', 2: 'STAR'}\n",
            "0    4998\n",
            "1     850\n",
            "2    4152\n",
            "Name: class, dtype: int64\n",
            "Train data shape: (8000, 11) (8000,)\n",
            "Test data shape: (2000, 11) (2000,)\n"
          ],
          "name": "stdout"
        }
      ]
    },
    {
      "metadata": {
        "id": "bpRgD8HI1aSn",
        "colab_type": "code",
        "colab": {
          "base_uri": "https://localhost:8080/",
          "height": 34
        },
        "outputId": "f82abc52-ab16-48bf-d326-41049101d332"
      },
      "cell_type": "code",
      "source": [
        "# Train and test classifier:\n",
        "import sklearn.neighbors\n",
        "classifier = sklearn.neighbors.KNeighborsClassifier(n_neighbors=1)\n",
        "classifier.fit(X_train, y_train)\n",
        "accuracy = classifier.score(X_test, y_test)\n",
        "print(f'Test accuracy: {accuracy}')"
      ],
      "execution_count": 79,
      "outputs": [
        {
          "output_type": "stream",
          "text": [
            "Test accuracy: 0.7365\n"
          ],
          "name": "stdout"
        }
      ]
    }
  ]
}